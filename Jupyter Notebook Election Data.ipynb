{
 "cells": [
  {
   "cell_type": "code",
   "execution_count": 56,
   "metadata": {},
   "outputs": [],
   "source": [
    "import pandas as pd\n",
    "import os\n",
    "import csv\n",
    "import operator"
   ]
  },
  {
   "cell_type": "code",
   "execution_count": 15,
   "metadata": {},
   "outputs": [],
   "source": [
    "file_path = \"election_data.csv\"\n",
    "election_df = pd.read_csv(file_path)"
   ]
  },
  {
   "cell_type": "code",
   "execution_count": 59,
   "metadata": {},
   "outputs": [
    {
     "name": "stdout",
     "output_type": "stream",
     "text": [
      "Election Results\n",
      "---------------------------------\n",
      "Total Votes = 3521001\n",
      "---------------------------------\n",
      "Khan: 2218231\n",
      "Correy: 704200\n",
      "Li: 492940\n",
      "O'Tooley: 105630\n",
      "---------------------------------\n",
      "Winner = Khan\n"
     ]
    }
   ],
   "source": [
    "with open(\"election_data.csv\") as csv_file:\n",
    "    csv_reader = csv.reader(csv_file, delimiter=',')\n",
    "    \n",
    "    \n",
    "    csv_header = next(csv_reader)\n",
    "    num_votes = 0\n",
    "    dictionary = {}\n",
    "    cand1 = 0\n",
    "    cand2 = 0\n",
    "    cand3 = 0\n",
    "    cand4 = 0\n",
    "    \n",
    "    for row in csv_reader:\n",
    "        num_votes+=1\n",
    "        \n",
    "        if row[2] == \"Khan\":\n",
    "            cand1+=1\n",
    "            \n",
    "        elif row[2] == \"Correy\":\n",
    "            cand2+=1\n",
    "            \n",
    "        elif row[2] == \"Li\":\n",
    "            cand3+=1\n",
    "            \n",
    "        elif row[2] == \"O'Tooley\":\n",
    "            cand4+=1\n",
    "            \n",
    "        \n",
    "            \n",
    "    dictionary = {\"Khan\":cand1, \"Correy\":cand2, \"Li\":cand3, \"O'Tooley\":cand4}\n",
    "    \n",
    "    winner = max(dictionary.items(), key=operator.itemgetter(1))[0]\n",
    "    \n",
    "    \n",
    "    print(\"Election Results\")\n",
    "    print(\"---------------------------------\")\n",
    "    print(\"Total Votes = \" + str(num_votes))\n",
    "    print(\"---------------------------------\")\n",
    "    print(\"Khan: \" + str(cand1))\n",
    "    print(\"Correy: \" + str(cand2))\n",
    "    print(\"Li: \" + str(cand3))\n",
    "    print(\"O'Tooley: \" + str(cand4))\n",
    "    print(\"---------------------------------\")\n",
    "    print(\"Winner = \" + str(winner))\n",
    "    "
   ]
  }
 ],
 "metadata": {
  "kernelspec": {
   "display_name": "Python 3",
   "language": "python",
   "name": "python3"
  },
  "language_info": {
   "codemirror_mode": {
    "name": "ipython",
    "version": 3
   },
   "file_extension": ".py",
   "mimetype": "text/x-python",
   "name": "python",
   "nbconvert_exporter": "python",
   "pygments_lexer": "ipython3",
   "version": "3.7.3"
  }
 },
 "nbformat": 4,
 "nbformat_minor": 2
}
