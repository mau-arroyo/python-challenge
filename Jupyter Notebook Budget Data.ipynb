{
 "cells": [
  {
   "cell_type": "code",
   "execution_count": 25,
   "metadata": {},
   "outputs": [],
   "source": [
    "import csv\n",
    "import os\n",
    "import pandas as pd"
   ]
  },
  {
   "cell_type": "code",
   "execution_count": 30,
   "metadata": {
    "scrolled": true
   },
   "outputs": [
    {
     "name": "stdout",
     "output_type": "stream",
     "text": [
      "Financial Analysis\n",
      "--------------------------------------\n",
      "Total Months = 86\n",
      "Total = $38382578\n",
      "average change = -2315.1176470588234\n",
      "Greatest Increase in Profits = $1926159\n",
      "Greatest Decrease in Profits = $-2196167\n"
     ]
    }
   ],
   "source": [
    "with open('budget_data.csv') as csv_file:\n",
    "    csv_reader = csv.reader(csv_file, delimiter=',')\n",
    "\n",
    "    csv_header = next(csv_reader)\n",
    "    numbermonths=0\n",
    "    total = 0\n",
    "    \n",
    "    dictionary = {}\n",
    "    \n",
    "    for row in csv_reader:\n",
    "        numbermonths+=1\n",
    "        total+=int(row[1])\n",
    "        \n",
    "        \n",
    "        if numbermonths == 1:\n",
    "            inicial = int(row[1])\n",
    "            \n",
    "        else:\n",
    "            actual = int(row[1])\n",
    "            change = actual - inicial\n",
    "            inicial = actual\n",
    "            \n",
    "            dictionary[row[0]] = change\n",
    "    \n",
    "    average_change = (sum(dictionary.values())/(numbermonths - 1))\n",
    "    greatest_increase = (max(dictionary.values()))\n",
    "    greatest_decrease = (min(dictionary.values()))\n",
    "\n",
    "\n",
    "    print(\"Financial Analysis\")\n",
    "    print(\"--------------------------------------\")\n",
    "    print(\"Total Months = \" + str(numbermonths)) \n",
    "    print(\"Total = $\" + str(total))\n",
    "    print(\"average change = \" + str(average_change))\n",
    "    print(\"Greatest Increase in Profits = $\" + str(greatest_increase))\n",
    "    print(\"Greatest Decrease in Profits = $\" + str(greatest_decrease))\n",
    "    "
   ]
  },
  {
   "cell_type": "code",
   "execution_count": null,
   "metadata": {},
   "outputs": [],
   "source": []
  }
 ],
 "metadata": {
  "kernelspec": {
   "display_name": "Python 3",
   "language": "python",
   "name": "python3"
  },
  "language_info": {
   "codemirror_mode": {
    "name": "ipython",
    "version": 3
   },
   "file_extension": ".py",
   "mimetype": "text/x-python",
   "name": "python",
   "nbconvert_exporter": "python",
   "pygments_lexer": "ipython3",
   "version": "3.7.3"
  }
 },
 "nbformat": 4,
 "nbformat_minor": 2
}
